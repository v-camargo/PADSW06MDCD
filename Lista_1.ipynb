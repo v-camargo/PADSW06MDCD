{
  "nbformat": 4,
  "nbformat_minor": 0,
  "metadata": {
    "colab": {
      "name": "Lista 1",
      "provenance": [],
      "authorship_tag": "ABX9TyP+RSO2g4/BbH9XeO3tDlrS",
      "include_colab_link": true
    },
    "kernelspec": {
      "name": "python3",
      "display_name": "Python 3"
    },
    "language_info": {
      "name": "python"
    }
  },
  "cells": [
    {
      "cell_type": "markdown",
      "metadata": {
        "id": "view-in-github",
        "colab_type": "text"
      },
      "source": [
        "<a href=\"https://colab.research.google.com/github/v-camargo/PADSW06MDCD/blob/main/Lista_1.ipynb\" target=\"_parent\"><img src=\"https://colab.research.google.com/assets/colab-badge.svg\" alt=\"Open In Colab\"/></a>"
      ]
    },
    {
      "cell_type": "code",
      "source": [
        "#Bibliotecas\n",
        "import pandas as pd\n",
        "import numpy as np"
      ],
      "metadata": {
        "id": "6jslOpKxsEZ_"
      },
      "execution_count": 44,
      "outputs": []
    },
    {
      "cell_type": "code",
      "execution_count": 64,
      "metadata": {
        "id": "pw37l5tCTX9W"
      },
      "outputs": [],
      "source": [
        "#importando bases\n",
        "orders = pd.read_csv(\"olist_orders_dataset.csv\")\n",
        "items = pd.read_csv(\"olist_order_items_dataset.csv\")\n",
        "customers = pd.read_csv(\"olist_customers_dataset.csv\")\n",
        "sellers = pd.read_csv(\"olist_sellers_dataset.csv\")\n",
        "products = pd.read_csv(\"olist_products_dataset.csv\")\n",
        "payments = pd.read_csv(\"olist_order_payments_dataset.csv\")\n",
        "reviews = pd.read_csv(\"olist_order_reviews_dataset.csv\")\n",
        "geolocation = pd.read_csv(\"olist_geolocation_dataset.csv\")\n"
      ]
    },
    {
      "cell_type": "markdown",
      "source": [
        "1 Quantas linhas temos na tabela 'olist_orders_dataset.csv'? <p>\n",
        "2 Quantas linhas temos na tabela 'olist_order_items_dataset.csv'?<p>\n",
        "3 Quantas linhas temos na tabela 'olist_customers_dataset.csv'?<p>\n",
        "4 Quantas linhas temos na tabela 'olist_sellers_dataset.csv'?<p>\n",
        "5 Quantas linhas temos na tabela 'olist_products_dataset.csv'?<p>\n",
        "6 Quantas linhas temos na tabela 'olist_order_payments_dataset.csv'?<p>\n",
        "7 Quantas linhas temos na tabela 'olist_order_reviews_dataset.csv'?<p>\n",
        "8 Quantas linhas temos na tabela 'olist_geolocation_dataset.csv'?<p>"
      ],
      "metadata": {
        "id": "Ytna5HgPTaqr"
      }
    },
    {
      "cell_type": "code",
      "source": [
        "resposta_1 = orders.shape[0]\n",
        "resposta_2 = items.shape[0]\n",
        "resposta_3 = customers.shape[0]\n",
        "resposta_4 = sellers.shape[0]\n",
        "resposta_5 = products.shape[0]\n",
        "resposta_6 = payments.shape[0]\n",
        "resposta_7 = reviews.shape[0]\n",
        "resposta_8 = geolocation.shape[0]"
      ],
      "metadata": {
        "id": "eHeUPryPsUsx"
      },
      "execution_count": 19,
      "outputs": []
    },
    {
      "cell_type": "markdown",
      "source": [
        "9 Quantos CEPS únicos temos no banco de dados? <p>\n",
        "10 Quantas latitudes e longitudes estão expressas na base de dados?"
      ],
      "metadata": {
        "id": "cBYEbGhzvF0-"
      }
    },
    {
      "cell_type": "markdown",
      "source": [
        "As bases que contêm CEPs são *customers, geolocation, sellers*"
      ],
      "metadata": {
        "id": "erXxYyFEwUAv"
      }
    },
    {
      "cell_type": "code",
      "source": [
        "CEP_customers = customers['customer_zip_code_prefix']\n",
        "CEP_geolocation = geolocation['geolocation_zip_code_prefix']\n",
        "CEP_sellers = sellers['seller_zip_code_prefix']"
      ],
      "metadata": {
        "id": "qHvmQtIAsYW8"
      },
      "execution_count": 76,
      "outputs": []
    },
    {
      "cell_type": "code",
      "source": [
        "resposta_9 = pd.concat([CEP_customers,CEP_geolocation,CEP_sellers]).nunique()"
      ],
      "metadata": {
        "id": "w7lSj4MD0vAi",
        "outputId": "b73e813b-98e2-4b9d-d0ed-389d19ec0542",
        "colab": {
          "base_uri": "https://localhost:8080/"
        }
      },
      "execution_count": 80,
      "outputs": [
        {
          "output_type": "execute_result",
          "data": {
            "text/plain": [
              "19177"
            ]
          },
          "metadata": {},
          "execution_count": 80
        }
      ]
    },
    {
      "cell_type": "code",
      "source": [
        "latitudes = geolocation['geolocation_lat']\n",
        "longitudes = geolocation['geolocation_lat']"
      ],
      "metadata": {
        "id": "N3hP8BCRzXII"
      },
      "execution_count": 85,
      "outputs": []
    },
    {
      "cell_type": "code",
      "source": [
        "resposta_10 = print(\"Esão presentes\", latitudes.nunique() + longitudes.nunique(), \"latitudes e longitudes na base, sendo\",\\\n",
        "                    latitudes.nunique(), \"de cada coordenada\") "
      ],
      "metadata": {
        "id": "OvrtkcKIz4OA",
        "outputId": "2bb8e2e9-388d-468c-8524-7288ca3b38cd",
        "colab": {
          "base_uri": "https://localhost:8080/"
        }
      },
      "execution_count": 92,
      "outputs": [
        {
          "output_type": "stream",
          "name": "stdout",
          "text": [
            "Esão presentes 1434720 latitudes e longitudes na base, sendo 717360 de cada coordenada\n"
          ]
        }
      ]
    },
    {
      "cell_type": "code",
      "source": [
        ""
      ],
      "metadata": {
        "id": "AF3gfpON0TZ_"
      },
      "execution_count": null,
      "outputs": []
    }
  ]
}